{
 "cells": [
  {
   "cell_type": "code",
   "execution_count": null,
   "metadata": {},
   "outputs": [],
   "source": [
    "import ROOT as r"
   ]
  },
  {
   "cell_type": "code",
   "execution_count": null,
   "metadata": {},
   "outputs": [],
   "source": []
  }
 ],
 "metadata": {
  "kernelspec": {
   "display_name": "ROOFIT_IndiaCMS2020",
   "language": "python",
   "name": "roofit_indiacms2020"
  }
 },
 "nbformat": 4,
 "nbformat_minor": 2
}
