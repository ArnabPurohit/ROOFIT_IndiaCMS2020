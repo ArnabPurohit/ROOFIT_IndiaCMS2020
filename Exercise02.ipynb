{
 "cells": [
  {
   "cell_type": "code",
   "execution_count": 1,
   "metadata": {},
   "outputs": [
    {
     "name": "stdout",
     "output_type": "stream",
     "text": [
      "Welcome to JupyROOT 6.14/09\n"
     ]
    }
   ],
   "source": [
    "import ROOT as r\n",
    "from array import array"
   ]
  },
  {
   "cell_type": "code",
   "execution_count": 10,
   "metadata": {},
   "outputs": [],
   "source": [
    "def makeTTree():\n",
    "    # Create ROOT ROOT.TTree filled with a Gaussian distribution in x and a\n",
    "    # uniform distribution in y\n",
    "\n",
    "    tree = r.TTree(\"tree\", \"tree\")\n",
    "    px = array('d', [0])\n",
    "    py = array('d', [0])\n",
    "    tree.Branch(\"x\", px, \"x/D\")\n",
    "    tree.Branch(\"y\", py, \"y/D\")\n",
    "    for i in range(100):\n",
    "        px[0] = r.gRandom.Gaus(0, 3)\n",
    "        py[0] = r.gRandom.Uniform() * 30 - 15\n",
    "        tree.Fill()\n",
    "    return tree"
   ]
  },
  {
   "cell_type": "code",
   "execution_count": 11,
   "metadata": {},
   "outputs": [],
   "source": [
    "def makeTH1():\n",
    "    hh = r.TH1D(\"hh\", \"hh\", 25, -10, 10)\n",
    "    for i in range(100):\n",
    "        hh.Fill(r.gRandom.Gaus(0, 3))\n",
    "    return hh"
   ]
  },
  {
   "cell_type": "markdown",
   "metadata": {},
   "source": [
    "Import TH1 into a RooDataHist\n",
    "--------------------------------------------"
   ]
  },
  {
   "cell_type": "code",
   "execution_count": 13,
   "metadata": {},
   "outputs": [
    {
     "name": "stdout",
     "output_type": "stream",
     "text": [
      "[#1] INFO:DataHandling -- RooDataHist::adjustBinning(dh): fit range of variable x expanded to nearest bin boundaries: [-10,10] --> [-10,10]\n"
     ]
    },
    {
     "name": "stderr",
     "output_type": "stream",
     "text": [
      "Warning in <TROOT::Append>: Replacing existing TH1: hh (Potential memory leak).\n"
     ]
    }
   ],
   "source": [
    "# Create a ROOT ROOT.TH1 histogram\n",
    "hh = makeTH1()\n",
    "\n",
    "# Declare observable x\n",
    "x = r.RooRealVar(\"x\", \"x\", -10, 10)\n",
    "\n",
    "# Create a binned dataset that imports contents of ROOT.TH1 and associates\n",
    "# its contents to observable 'x'\n",
    "dh = r.RooDataHist(\"dh\", \"dh\", r.RooArgList(x),r.RooFit.Import(hh))"
   ]
  },
  {
   "cell_type": "markdown",
   "metadata": {},
   "source": [
    "## Plot and fit a RooDataHist\n",
    "## ---------------------------------------------------\n",
    "\n",
    "## Make plot of binned dataset showing Poisson error bars (RooFit default)"
   ]
  },
  {
   "cell_type": "code",
   "execution_count": 15,
   "metadata": {},
   "outputs": [
    {
     "data": {
      "text/plain": [
       "<ROOT.RooPlot object (\"frame_x_727c460\") at 0x727c460>"
      ]
     },
     "execution_count": 15,
     "metadata": {},
     "output_type": "execute_result"
    },
    {
     "name": "stdout",
     "output_type": "stream",
     "text": [
      "[#1] INFO:Minization -- RooMinimizer::optimizeConst: activating const optimization\n",
      " **********\n",
      " **    1 **SET PRINT           1\n",
      " **********\n",
      " **********\n",
      " **    2 **SET NOGRAD\n",
      " **********\n",
      " PARAMETER DEFINITIONS:\n",
      "    NO.   NAME         VALUE      STEP SIZE      LIMITS\n",
      "     1 mean         0.00000e+00  2.00000e+00   -1.00000e+01  1.00000e+01\n",
      "     2 sigma        3.00000e+00  9.90000e-01    1.00000e-01  1.00000e+01\n",
      " **********\n",
      " **    3 **SET ERR         0.5\n",
      " **********\n",
      " **********\n",
      " **    4 **SET PRINT           1\n",
      " **********\n",
      " **********\n",
      " **    5 **SET STR           1\n",
      " **********\n",
      " NOW USING STRATEGY  1: TRY TO BALANCE SPEED AGAINST RELIABILITY\n",
      " **********\n",
      " **    6 **MIGRAD        1000           1\n",
      " **********\n",
      " FIRST CALL TO USER FUNCTION AT NEW START POINT, WITH IFLAG=4.\n",
      " START MIGRAD MINIMIZATION.  STRATEGY  1.  CONVERGENCE WHEN EDM .LT. 1.00e-03\n",
      " FCN=259.127 FROM MIGRAD    STATUS=INITIATE        8 CALLS           9 TOTAL\n",
      "                     EDM= unknown      STRATEGY= 1      NO ERROR MATRIX       \n",
      "  EXT PARAMETER               CURRENT GUESS       STEP         FIRST   \n",
      "  NO.   NAME      VALUE            ERROR          SIZE      DERIVATIVE \n",
      "   1  mean         0.00000e+00   2.00000e+00   2.01358e-01   6.75556e+01\n",
      "   2  sigma        3.00000e+00   9.90000e-01   2.22742e-01  -2.39466e+01\n",
      "                               ERR DEF= 0.5\n",
      " MIGRAD MINIMIZATION HAS CONVERGED.\n",
      " MIGRAD WILL VERIFY CONVERGENCE AND ERROR MATRIX.\n",
      " COVARIANCE MATRIX CALCULATED SUCCESSFULLY\n",
      " FCN=256.69 FROM MIGRAD    STATUS=CONVERGED      30 CALLS          31 TOTAL\n",
      "                     EDM=7.00746e-05    STRATEGY= 1      ERROR MATRIX ACCURATE \n",
      "  EXT PARAMETER                                   STEP         FIRST   \n",
      "  NO.   NAME      VALUE            ERROR          SIZE      DERIVATIVE \n",
      "   1  mean        -6.22553e-01   3.22652e-01   3.60056e-04  -2.47119e-01\n",
      "   2  sigma        3.19209e+00   2.38934e-01   5.84667e-04   4.42419e-02\n",
      "                               ERR DEF= 0.5\n",
      " EXTERNAL ERROR MATRIX.    NDIM=  25    NPAR=  2    ERR DEF=0.5\n",
      "  1.041e-01 -1.922e-03 \n",
      " -1.922e-03  5.714e-02 \n",
      " PARAMETER  CORRELATION COEFFICIENTS  \n",
      "       NO.  GLOBAL      1      2\n",
      "        1  0.02491   1.000 -0.025\n",
      "        2  0.02491  -0.025  1.000\n",
      " **********\n",
      " **    7 **SET ERR         0.5\n",
      " **********\n",
      " **********\n",
      " **    8 **SET PRINT           1\n",
      " **********\n",
      " **********\n",
      " **    9 **HESSE        1000\n",
      " **********\n",
      " COVARIANCE MATRIX CALCULATED SUCCESSFULLY\n",
      " FCN=256.69 FROM HESSE     STATUS=OK             10 CALLS          41 TOTAL\n",
      "                     EDM=7.0105e-05    STRATEGY= 1      ERROR MATRIX ACCURATE \n",
      "  EXT PARAMETER                                INTERNAL      INTERNAL  \n",
      "  NO.   NAME      VALUE            ERROR       STEP SIZE       VALUE   \n",
      "   1  mean        -6.22553e-01   3.22658e-01   7.20111e-05  -6.22956e-02\n",
      "   2  sigma        3.19209e+00   2.38938e-01   1.16933e-04  -3.84760e-01\n",
      "                               ERR DEF= 0.5\n",
      " EXTERNAL ERROR MATRIX.    NDIM=  25    NPAR=  2    ERR DEF=0.5\n",
      "  1.041e-01 -1.977e-03 \n",
      " -1.977e-03  5.714e-02 \n",
      " PARAMETER  CORRELATION COEFFICIENTS  \n",
      "       NO.  GLOBAL      1      2\n",
      "        1  0.02563   1.000 -0.026\n",
      "        2  0.02563  -0.026  1.000\n",
      "[#1] INFO:Minization -- RooMinimizer::optimizeConst: deactivating const optimization\n"
     ]
    }
   ],
   "source": [
    "frame = x.frame(r.RooFit.Title(\"Imported ROOT.TH1 with Poisson error bars\"))\n",
    "dh.plotOn(frame)\n",
    "\n",
    "# Fit a Gaussian p.d.f to the data\n",
    "mean = r.RooRealVar(\"mean\", \"mean\", 0, -10, 10)\n",
    "sigma = r.RooRealVar(\"sigma\", \"sigma\", 3, 0.1, 10)\n",
    "gauss = r.RooGaussian(\"gauss\", \"gauss\", x, mean, sigma)\n",
    "gauss.fitTo(dh)\n",
    "gauss.plotOn(frame)"
   ]
  },
  {
   "cell_type": "markdown",
   "metadata": {},
   "source": [
    "***\n",
    "## Plot and fit RooDataHist with internal errors\n",
    "### ---------------------------------------------------------------------------------------------\n",
    "If histogram has custom error (i.e. its contents does not originate from a Poisson process but e.g. is a sum of weighted events) you can use 'sum-of-weights' error instead.\n",
    "***"
   ]
  },
  {
   "cell_type": "code",
   "execution_count": 17,
   "metadata": {},
   "outputs": [
    {
     "data": {
      "text/plain": [
       "<ROOT.RooPlot object (\"frame_x_76624e0\") at 0x76624e0>"
      ]
     },
     "execution_count": 17,
     "metadata": {},
     "output_type": "execute_result"
    }
   ],
   "source": [
    "frame2 = x.frame(r.RooFit.Title(\"Imported TH1 with internal errors\"))\n",
    "dh.plotOn(frame2, r.RooFit.DataError(r.RooAbsData.SumW2))\n",
    "gauss.plotOn(frame2)"
   ]
  },
  {
   "cell_type": "markdown",
   "metadata": {},
   "source": [
    "***\n",
    "Please note that error bars shown (Poisson or SumW2) are for visualization only.\n",
    "A (binned) ML fit will ALWAYS assume the Poisson error interpretation of data (the mathematical definition of likelihood does not take any external definition of errors). Data with non-unit weights can only be correctly fitted with a chi^2 fit.\n",
    "***"
   ]
  },
  {
   "cell_type": "markdown",
   "metadata": {},
   "source": [
    "***\n",
    "## Importing ROOT Trees\n",
    "Import TTree into a RooDataSet (Unbinned)\n",
    "Construct unbinned dataset importing tree branches x and y matching between branches and RooRealVars is done by name of the branch. Note that ONLY entries for which x,y have values within their allowed ranges as defined in RooRealVar x and y are imported. Since the y values in the import tree are in the range [-15,15] and y defines a range [-10,10] this means that the RooDataSet below will have less entries than the TTree 'tree'.\n",
    "***"
   ]
  },
  {
   "cell_type": "code",
   "execution_count": 19,
   "metadata": {},
   "outputs": [
    {
     "data": {
      "text/plain": [
       "<ROOT.RooPlot object (\"frame_y_77eb3e0\") at 0x77eb3e0>"
      ]
     },
     "execution_count": 19,
     "metadata": {},
     "output_type": "execute_result"
    },
    {
     "name": "stdout",
     "output_type": "stream",
     "text": [
      "[#1] INFO:Eval -- RooTreeDataStore::loadValues(ds) Ignored 29 out of range events\n",
      "RooDataSet::ds[x,y] = 71 entries\n"
     ]
    }
   ],
   "source": [
    "tree = makeTTree()\n",
    "\n",
    "# Define 2nd observable y\n",
    "y = r.RooRealVar(\"y\", \"y\", -10, 10)\n",
    "ds = r.RooDataSet(\"ds\", \"ds\", r.RooArgSet(x, y),r.RooFit.Import(tree))\n",
    "# Print number of events in dataset\n",
    "ds.Print()\n",
    "\n",
    "# Print unbinned dataset with default frame binning (100 bins)\n",
    "frame3 = y.frame(r.RooFit.Title(\"Unbinned data shown in default frame binning\"))\n",
    "ds.plotOn(frame3)"
   ]
  },
  {
   "cell_type": "markdown",
   "metadata": {},
   "source": [
    "***\n",
    "### Plot dataset with different binning choices\n",
    "***"
   ]
  },
  {
   "cell_type": "code",
   "execution_count": 20,
   "metadata": {},
   "outputs": [
    {
     "name": "stderr",
     "output_type": "stream",
     "text": [
      "Info in <TCanvas::Print>: png file Exercise02.png has been created\n"
     ]
    },
    {
     "data": {
      "image/png": "[encoded data removed]",
      "text/plain": [
       "<IPython.core.display.Image object>"
      ]
     },
     "metadata": {},
     "output_type": "display_data"
    }
   ],
   "source": [
    "# Print unbinned dataset with custom binning choice (20 bins)\n",
    "frame4 = y.frame(r.RooFit.Title(\"Unbinned data shown with custom binning\"))\n",
    "ds.plotOn(frame4, r.RooFit.Binning(20))\n",
    "\n",
    "# Draw all frames on a canvas\n",
    "c = r.TCanvas(\"Exercise02\", \"Exercise02\", 800, 800)\n",
    "c.Divide(2, 2)\n",
    "c.cd(1)\n",
    "r.gPad.SetLeftMargin(0.15)\n",
    "frame.GetYaxis().SetTitleOffset(1.4)\n",
    "frame.Draw()\n",
    "c.cd(2)\n",
    "r.gPad.SetLeftMargin(0.15)\n",
    "frame2.GetYaxis().SetTitleOffset(1.4)\n",
    "frame2.Draw()\n",
    "c.cd(3)\n",
    "r.gPad.SetLeftMargin(0.15)\n",
    "frame3.GetYaxis().SetTitleOffset(1.4)\n",
    "frame3.Draw()\n",
    "c.cd(4)\n",
    "r.gPad.SetLeftMargin(0.15)\n",
    "frame4.GetYaxis().SetTitleOffset(1.4)\n",
    "frame4.Draw()\n",
    "c.Draw()\n",
    "c.SaveAs(\"plots/Exercise02.png\")"
   ]
  },
  {
   "cell_type": "code",
   "execution_count": null,
   "metadata": {},
   "outputs": [],
   "source": []
  }
 ],
 "metadata": {
  "kernelspec": {
   "display_name": "ROOFIT_IndiaCMS2020",
   "language": "python",
   "name": "roofit_indiacms2020"
  },
  "language_info": {
   "codemirror_mode": {
    "name": "ipython",
    "version": 2
   },
   "file_extension": ".py",
   "mimetype": "text/x-python",
   "name": "python",
   "nbconvert_exporter": "python",
   "pygments_lexer": "ipython2",
   "version": "2.7.15+"
  }
 },
 "nbformat": 4,
 "nbformat_minor": 2
}
