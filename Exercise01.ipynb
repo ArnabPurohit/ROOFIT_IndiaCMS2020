{
 "cells": [
  {
   "cell_type": "code",
   "execution_count": 1,
   "metadata": {},
   "outputs": [
    {
     "name": "stdout",
     "output_type": "stream",
     "text": [
      "Welcome to JupyROOT 6.14/09\n"
     ]
    }
   ],
   "source": [
    "import ROOT as r"
   ]
  },
  {
   "cell_type": "code",
   "execution_count": 2,
   "metadata": {},
   "outputs": [],
   "source": [
    "x = r.RooRealVar(\"x\",\"x\",-10,10)"
   ]
  },
  {
   "cell_type": "code",
   "execution_count": 3,
   "metadata": {},
   "outputs": [],
   "source": [
    "mean = r.RooRealVar(\"mean\",\"mean of gaussian\",1,-10,10)                                                         \n",
    "sigma = r.RooRealVar(\"sigma\",\"width of gaussian\",1,0.1,10)                                                      \n",
    "gauss = r.RooGaussian(\"gauss\",\"gaussian PDF\",x,mean,sigma)                                                      "
   ]
  },
  {
   "cell_type": "code",
   "execution_count": 4,
   "metadata": {},
   "outputs": [],
   "source": [
    "l = r.RooRealVar(\"lambda\", \"slope\", -0.1, -5.0, 0.0)                                                            \n",
    "shape = r.RooExponential(\"expo\", \"exponential PDF\", x, l)                                                       "
   ]
  },
  {
   "cell_type": "code",
   "execution_count": 5,
   "metadata": {},
   "outputs": [],
   "source": [
    "nsig = r.RooRealVar(\"nsig\",\"signal events\",20000,0,80000)                                                       \n",
    "nbkg = r.RooRealVar(\"nbkg\",\"background events\",20000,0,80000)                                                   \n",
    "                                                                                                                \n",
    "model = r.RooAddPdf(\"model\",\"Gauss+shape\",r.RooArgList(gauss,shape),r.RooArgList(nsig,nbkg))                    "
   ]
  },
  {
   "cell_type": "code",
   "execution_count": 6,
   "metadata": {},
   "outputs": [],
   "source": [
    "xframe = x.frame(r.RooFit.Title(\"Generated data\"))                                                                                                                                                                            "
   ]
  },
  {
   "cell_type": "code",
   "execution_count": 7,
   "metadata": {},
   "outputs": [
    {
     "data": {
      "text/plain": [
       "<ROOT.RooPlot object (\"frame_x_6ce9010\") at 0x6ce9010>"
      ]
     },
     "execution_count": 7,
     "metadata": {},
     "output_type": "execute_result"
    }
   ],
   "source": [
    "data = model.generate(r.RooArgSet(x),10000)                                                                     \n",
    "                                                                                                                \n",
    "xframe2 = x.frame(r.RooFit.Title(\"Gaussian+Exp fit to the data\"))                                               \n",
    "data.plotOn(xframe)"
   ]
  },
  {
   "cell_type": "code",
   "execution_count": 8,
   "metadata": {},
   "outputs": [
    {
     "data": {
      "text/plain": [
       "<ROOT.RooPlot object (\"frame_x_6fed940\") at 0x6fed940>"
      ]
     },
     "execution_count": 8,
     "metadata": {},
     "output_type": "execute_result"
    },
    {
     "name": "stdout",
     "output_type": "stream",
     "text": [
      "[#1] INFO:Minization -- p.d.f. provides expected number of events, including extended term in likelihood.\n",
      "[#1] INFO:Minization -- RooMinimizer::optimizeConst: activating const optimization\n",
      "[#1] INFO:Minization --  The following expressions will be evaluated in cache-and-track mode: (gauss,expo)\n",
      " **********\n",
      " **    1 **SET PRINT           1\n",
      " **********\n",
      " **********\n",
      " **    2 **SET NOGRAD\n",
      " **********\n",
      " PARAMETER DEFINITIONS:\n",
      "    NO.   NAME         VALUE      STEP SIZE      LIMITS\n",
      "     1 lambda      -1.00000e-01  5.00000e-02   -5.00000e+00  0.00000e+00\n",
      "     2 mean         1.00000e+00  2.00000e+00   -1.00000e+01  1.00000e+01\n",
      "     3 nbkg         2.00000e+04  8.00000e+03    0.00000e+00  8.00000e+04\n",
      "     4 nsig         2.00000e+04  8.00000e+03    0.00000e+00  8.00000e+04\n",
      "     5 sigma        1.00000e+00  4.50000e-01    1.00000e-01  1.00000e+01\n",
      " **********\n",
      " **    3 **SET ERR         0.5\n",
      " **********\n",
      " **********\n",
      " **    4 **SET PRINT           1\n",
      " **********\n",
      " **********\n",
      " **    5 **SET STR           1\n",
      " **********\n",
      " NOW USING STRATEGY  1: TRY TO BALANCE SPEED AGAINST RELIABILITY\n",
      " **********\n",
      " **    6 **MIGRAD        2500           1\n",
      " **********\n",
      " FIRST CALL TO USER FUNCTION AT NEW START POINT, WITH IFLAG=4.\n",
      " START MIGRAD MINIMIZATION.  STRATEGY  1.  CONVERGENCE WHEN EDM .LT. 1.00e-03\n",
      " FCN=-40301.1 FROM MIGRAD    STATUS=INITIATE       22 CALLS          23 TOTAL\n",
      "                     EDM= unknown      STRATEGY= 1      NO ERROR MATRIX       \n",
      "  EXT PARAMETER               CURRENT GUESS       STEP         FIRST   \n",
      "  NO.   NAME      VALUE            ERROR          SIZE      DERIVATIVE \n",
      "   1  lambda      -1.00000e-01   5.00000e-02   7.39156e-02  -3.66045e+01\n",
      "   2  mean         1.00000e+00   2.00000e+00   2.02430e-01   1.95296e+03\n",
      "   3  nbkg         2.00000e+04   8.00000e+03   2.35352e-01   2.60071e+04\n",
      "   4  nsig         2.00000e+04   8.00000e+03   2.35352e-01   2.59544e+04\n",
      "   5  sigma        1.00000e+00   4.50000e-01   1.63378e-01  -4.55054e+01\n",
      "                               ERR DEF= 0.5\n",
      " MIGRAD MINIMIZATION HAS CONVERGED.\n",
      " MIGRAD WILL VERIFY CONVERGENCE AND ERROR MATRIX.\n",
      " COVARIANCE MATRIX CALCULATED SUCCESSFULLY\n",
      " FCN=-56444.1 FROM MIGRAD    STATUS=CONVERGED     118 CALLS         119 TOTAL\n",
      "                     EDM=0.000106912    STRATEGY= 1      ERROR MATRIX ACCURATE \n",
      "  EXT PARAMETER                                   STEP         FIRST   \n",
      "  NO.   NAME      VALUE            ERROR          SIZE      DERIVATIVE \n",
      "   1  lambda      -9.96023e-02   2.96822e-03   6.68656e-04   1.21363e+00\n",
      "   2  mean         9.41041e-01   1.72896e-02   2.83382e-04  -1.73545e+00\n",
      "   3  nbkg         4.96098e+03   8.17591e+01   6.52310e-04   1.67616e+00\n",
      "   4  nsig         5.03933e+03   8.22343e+01   6.51728e-04  -4.93201e-01\n",
      "   5  sigma        1.00738e+00   1.49868e-02   8.08766e-04   4.97320e-01\n",
      "                               ERR DEF= 0.5\n",
      " EXTERNAL ERROR MATRIX.    NDIM=  25    NPAR=  5    ERR DEF=0.5\n",
      "  8.810e-06 -1.856e-06  4.881e-02 -4.878e-02 -8.338e-06 \n",
      " -1.856e-06  2.989e-04  5.845e-02 -5.851e-02 -2.034e-05 \n",
      "  4.881e-02  5.845e-02  6.685e+03 -1.722e+03 -3.076e-01 \n",
      " -4.878e-02 -5.851e-02 -1.722e+03  6.763e+03  3.077e-01 \n",
      " -8.338e-06 -2.034e-05 -3.076e-01  3.077e-01  2.246e-04 \n",
      " PARAMETER  CORRELATION COEFFICIENTS  \n",
      "       NO.  GLOBAL      1      2      3      4      5\n",
      "        1  0.28299   1.000 -0.036  0.201 -0.200 -0.187\n",
      "        2  0.10234  -0.036  1.000  0.041 -0.041 -0.078\n",
      "        3  0.34569   0.201  0.041  1.000 -0.256 -0.251\n",
      "        4  0.34427  -0.200 -0.041 -0.256  1.000  0.250\n",
      "        5  0.34170  -0.187 -0.078 -0.251  0.250  1.000\n",
      " **********\n",
      " **    7 **SET ERR         0.5\n",
      " **********\n",
      " **********\n",
      " **    8 **SET PRINT           1\n",
      " **********\n",
      " **********\n",
      " **    9 **HESSE        2500\n",
      " **********\n",
      " COVARIANCE MATRIX CALCULATED SUCCESSFULLY\n",
      " FCN=-56444.1 FROM HESSE     STATUS=OK             31 CALLS         150 TOTAL\n",
      "                     EDM=0.000107088    STRATEGY= 1      ERROR MATRIX ACCURATE \n",
      "  EXT PARAMETER                                INTERNAL      INTERNAL  \n",
      "  NO.   NAME      VALUE            ERROR       STEP SIZE       VALUE   \n",
      "   1  lambda      -9.96023e-02   2.96922e-03   1.33731e-04   1.28757e+00\n",
      "   2  mean         9.41041e-01   1.72914e-02   5.66765e-05   9.42435e-02\n",
      "   3  nbkg         4.96098e+03   8.17900e+01   1.30462e-04  -1.06745e+00\n",
      "   4  nsig         5.03933e+03   8.22646e+01   1.30346e-04  -1.06341e+00\n",
      "   5  sigma        1.00738e+00   1.49957e-02   3.23507e-05  -9.55652e-01\n",
      "                               ERR DEF= 0.5\n",
      " EXTERNAL ERROR MATRIX.    NDIM=  25    NPAR=  5    ERR DEF=0.5\n",
      "  8.816e-06 -1.853e-06  4.903e-02 -4.902e-02 -8.393e-06 \n",
      " -1.853e-06  2.990e-04  5.862e-02 -5.863e-02 -2.071e-05 \n",
      "  4.903e-02  5.862e-02  6.690e+03 -1.728e+03 -3.092e-01 \n",
      " -4.902e-02 -5.863e-02 -1.728e+03  6.767e+03  3.092e-01 \n",
      " -8.393e-06 -2.071e-05 -3.092e-01  3.092e-01  2.249e-04 \n",
      " PARAMETER  CORRELATION COEFFICIENTS  \n",
      "       NO.  GLOBAL      1      2      3      4      5\n",
      "        1  0.28408   1.000 -0.036  0.202 -0.201 -0.189\n",
      "        2  0.10339  -0.036  1.000  0.041 -0.041 -0.080\n",
      "        3  0.34665   0.202  0.041  1.000 -0.257 -0.252\n",
      "        4  0.34521  -0.201 -0.041 -0.257  1.000  0.251\n",
      "        5  0.34323  -0.189 -0.080 -0.252  0.251  1.000\n",
      "[#1] INFO:Minization -- RooMinimizer::optimizeConst: deactivating const optimization\n",
      "[#1] INFO:Plotting -- RooAbsPdf::plotOn(model) directly selected PDF components: (gauss)\n",
      "[#1] INFO:Plotting -- RooAbsPdf::plotOn(model) indirectly selected PDF components: ()\n",
      "[#1] INFO:Plotting -- RooAbsPdf::plotOn(model) directly selected PDF components: (expo)\n",
      "[#1] INFO:Plotting -- RooAbsPdf::plotOn(model) indirectly selected PDF components: ()\n"
     ]
    }
   ],
   "source": [
    "model.fitTo(data)                                                                                               \n",
    "ras_sig = r.RooArgSet(gauss)                                                                                    \n",
    "ras_bkg = r.RooArgSet(shape)                                                                                    \n",
    "data.plotOn(xframe2)                                                                                            \n",
    "model.plotOn(xframe2)                                                                                           \n",
    "model.plotOn(xframe2,r.RooFit.Components(ras_sig),r.RooFit.LineColor(r.kRed), r.RooFit.LineStyle(r.kDashed))    \n",
    "model.plotOn(xframe2,r.RooFit.Components(ras_bkg),r.RooFit.LineColor(r.kGreen), r.RooFit.LineStyle(r.kDashed))  "
   ]
  },
  {
   "cell_type": "code",
   "execution_count": 9,
   "metadata": {},
   "outputs": [],
   "source": [
    "c = r.TCanvas(\"Exercise01\",\"Exercise01\",800,400)                                                            \n",
    "c.Divide(2)                                                                                                     \n",
    "c.cd(1)                                                                                                         \n",
    "r.gPad.SetLeftMargin(0.15) ; xframe.GetYaxis().SetTitleOffset(1.6) ; xframe.Draw()                              "
   ]
  },
  {
   "cell_type": "code",
   "execution_count": 10,
   "metadata": {},
   "outputs": [
    {
     "data": {
      "image/png": "[encoded data removed]",
      "text/plain": [
       "<IPython.core.display.Image object>"
      ]
     },
     "metadata": {},
     "output_type": "display_data"
    }
   ],
   "source": [
    "c.cd(2) ; r.gPad.SetLeftMargin(0.15) ; xframe2.GetYaxis().SetTitleOffset(1.6) ; xframe2.Draw() ;                \n",
    "c.Draw()"
   ]
  },
  {
   "cell_type": "code",
   "execution_count": null,
   "metadata": {},
   "outputs": [],
   "source": []
  }
 ],
 "metadata": {
  "kernelspec": {
   "display_name": "ROOFIT_IndiaCMS2020",
   "language": "python",
   "name": "roofit_indiacms2020"
  },
  "language_info": {
   "codemirror_mode": {
    "name": "ipython",
    "version": 2
   },
   "file_extension": ".py",
   "mimetype": "text/x-python",
   "name": "python",
   "nbconvert_exporter": "python",
   "pygments_lexer": "ipython2",
   "version": "2.7.15+"
  }
 },
 "nbformat": 4,
 "nbformat_minor": 2
}
