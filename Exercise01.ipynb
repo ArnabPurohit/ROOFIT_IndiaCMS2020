{
 "cells": [
  {
   "cell_type": "code",
   "execution_count": 1,
   "metadata": {},
   "outputs": [
    {
     "name": "stdout",
     "output_type": "stream",
     "text": [
      "Welcome to JupyROOT 6.14/09\n"
     ]
    }
   ],
   "source": [
    "import ROOT as r"
   ]
  },
  {
   "cell_type": "code",
   "execution_count": 2,
   "metadata": {},
   "outputs": [],
   "source": [
    "x = r.RooRealVar(\"x\",\"x\",-10,10)"
   ]
  },
  {
   "cell_type": "code",
   "execution_count": 3,
   "metadata": {},
   "outputs": [],
   "source": [
    "mean = r.RooRealVar(\"mean\",\"mean of gaussian\",1,-10,10)                                                         \n",
    "sigma = r.RooRealVar(\"sigma\",\"width of gaussian\",1,0.1,10)                                                      \n",
    "gauss = r.RooGaussian(\"gauss\",\"gaussian PDF\",x,mean,sigma)                                                      "
   ]
  },
  {
   "cell_type": "code",
   "execution_count": 4,
   "metadata": {},
   "outputs": [],
   "source": [
    "l = r.RooRealVar(\"lambda\", \"slope\", -0.1, -5.0, 0.0)                                                            \n",
    "shape = r.RooExponential(\"expo\", \"exponential PDF\", x, l)                                                       "
   ]
  },
  {
   "cell_type": "code",
   "execution_count": 5,
   "metadata": {},
   "outputs": [],
   "source": [
    "nsig = r.RooRealVar(\"nsig\",\"signal events\",20000,0,80000)                                                       \n",
    "nbkg = r.RooRealVar(\"nbkg\",\"background events\",20000,0,80000)                                                   \n",
    "                                                                                                                \n",
    "model = r.RooAddPdf(\"model\",\"Gauss+shape\",r.RooArgList(gauss,shape),r.RooArgList(nsig,nbkg))                    "
   ]
  },
  {
   "cell_type": "code",
   "execution_count": 6,
   "metadata": {},
   "outputs": [],
   "source": [
    "xframe = x.frame(r.RooFit.Title(\"Generated data\"))                                                                                                                                                                            "
   ]
  },
  {
   "cell_type": "code",
   "execution_count": 7,
   "metadata": {},
   "outputs": [
    {
     "data": {
      "text/plain": [
       "<ROOT.RooPlot object (\"frame_x_5c504e0\") at 0x5c504e0>"
      ]
     },
     "execution_count": 7,
     "metadata": {},
     "output_type": "execute_result"
    }
   ],
   "source": [
    "data = model.generate(r.RooArgSet(x),10000)                                                                     \n",
    "                                                                                                                \n",
    "xframe2 = x.frame(r.RooFit.Title(\"Gaussian+Exp fit to the data\"))                                               \n",
    "data.plotOn(xframe)"
   ]
  },
  {
   "cell_type": "code",
   "execution_count": null,
   "metadata": {},
   "outputs": [],
   "source": [
    "model.fitTo(data)                                                                                               \n",
    "ras_sig = r.RooArgSet(gauss)                                                                                    \n",
    "ras_bkg = r.RooArgSet(shape)                                                                                    \n",
    "data.plotOn(xframe2)                                                                                            \n",
    "model.plotOn(xframe2)                                                                                           \n",
    "model.plotOn(xframe2,r.RooFit.Components(ras_sig),r.RooFit.LineColor(r.kRed), r.RooFit.LineStyle(r.kDashed))    \n",
    "model.plotOn(xframe2,r.RooFit.Components(ras_bkg),r.RooFit.LineColor(r.kGreen), r.RooFit.LineStyle(r.kDashed))  "
   ]
  },
  {
   "cell_type": "code",
   "execution_count": null,
   "metadata": {},
   "outputs": [],
   "source": [
    "c = r.TCanvas(\"Exercise01\",\"Exercise01\",800,400)                                                            \n",
    "c.Divide(2)                                                                                                     \n",
    "c.cd(1)                                                                                                         \n",
    "r.gPad.SetLeftMargin(0.15) ; xframe.GetYaxis().SetTitleOffset(1.6) ; xframe.Draw()                              "
   ]
  },
  {
   "cell_type": "code",
   "execution_count": null,
   "metadata": {},
   "outputs": [],
   "source": [
    "c.cd(2) ; r.gPad.SetLeftMargin(0.15) ; xframe2.GetYaxis().SetTitleOffset(1.6) ; xframe2.Draw() ;                \n",
    "c.Draw()"
   ]
  },
  {
   "cell_type": "code",
   "execution_count": null,
   "metadata": {},
   "outputs": [],
   "source": [
    "model.plotOn(xframe)\n",
    "print (\"The chi2/ndof = \",xframe.chiSquare())"
   ]
  },
  {
   "cell_type": "code",
   "execution_count": null,
   "metadata": {},
   "outputs": [],
   "source": []
  }
 ],
 "metadata": {
  "kernelspec": {
   "display_name": "ROOFIT_IndiaCMS2020",
   "language": "python",
   "name": "roofit_indiacms2020"
  },
  "language_info": {
   "codemirror_mode": {
    "name": "ipython",
    "version": 2
   },
   "file_extension": ".py",
   "mimetype": "text/x-python",
   "name": "python",
   "nbconvert_exporter": "python",
   "pygments_lexer": "ipython2",
   "version": "2.7.15+"
  }
 },
 "nbformat": 4,
 "nbformat_minor": 2
}
