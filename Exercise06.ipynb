{
 "cells": [
  {
   "cell_type": "code",
   "execution_count": 22,
   "metadata": {},
   "outputs": [],
   "source": [
    "import ROOT as r"
   ]
  },
  {
   "cell_type": "markdown",
   "metadata": {},
   "source": [
    "***\n",
    "## Simultaneous Fitting\n",
    "Often we have to fit to two or more channels simultaneously. We extend our RooSimultaneous p.d.f. using a combined data set, which can be fit for one (or more) common parameters.\n",
    "***"
   ]
  },
  {
   "cell_type": "code",
   "execution_count": 23,
   "metadata": {},
   "outputs": [
    {
     "data": {
      "text/plain": [
       "<ROOT.RooAddPdf object (\"model2\") at 0x839f650>"
      ]
     },
     "execution_count": 23,
     "metadata": {},
     "output_type": "execute_result"
    }
   ],
   "source": [
    "doFit = True\n",
    "w = r.RooWorkspace(\"w\")                                                                                      \n",
    "                                                                                                                \n",
    "                                                                                                                \n",
    "w.factory(\"Exponential:bkg1_pdf(x[0,10], a1[-0.5,-2,-0.2])\")                                                    \n",
    "w.factory(\"Gaussian:sig_pdf(x, mass[2], sigma[0.3])\")                                                           \n",
    "w.factory(\"prod:nsig1(mu[1,0,5],xsec1[50])\")                                                                    \n",
    "w.factory(\"SUM:model1(nsig1*sig_pdf, nbkg1[1000,0,10000]*bkg1_pdf)\")                                            \n",
    "                                                                                                                \n",
    "w.factory(\"Exponential:bkg2_pdf(x, a2[-0.25,-2,-0.2])\")                                                         \n",
    "w.factory(\"prod:nsig2(mu,xsec2[30])\")                                                                           \n",
    "w.factory(\"SUM:model2(nsig2*sig_pdf, nbkg2[100,0,10000]*bkg2_pdf)\")"
   ]
  },
  {
   "cell_type": "code",
   "execution_count": 24,
   "metadata": {},
   "outputs": [],
   "source": [
    "w.factory(\"index[channel1,channel2]\")                                                                           \n",
    "w.factory(\"SIMUL:jointModel(index,channel1=model1,channel2=model2)\")                                            \n",
    "                                                                                                                \n",
    "pdf = w.pdf(\"jointModel\")                                                                                       \n",
    "x = w.var(\"x\")                                                                                                  \n",
    "index = w.cat(\"index\")                                                                                          \n",
    "                                                                                                                \n",
    "x.setBins(50)                                                                                                   \n",
    "data = pdf.generate(r.RooArgSet(x,index))                                                                    \n",
    "data.SetName(\"data\")                                                                                            "
   ]
  },
  {
   "cell_type": "code",
   "execution_count": 25,
   "metadata": {},
   "outputs": [
    {
     "data": {
      "text/plain": [
       "<ROOT.RooPlot object (\"frame_x_81ba790\") at 0x81ba790>"
      ]
     },
     "execution_count": 25,
     "metadata": {},
     "output_type": "execute_result"
    },
    {
     "name": "stdout",
     "output_type": "stream",
     "text": [
      "[#1] INFO:ObjectHandling -- RooWorkspace::import(w) importing dataset data\n",
      "RooDataSet::data[x,index] = 1180 entries\n",
      "[#1] INFO:Plotting -- RooTreeData::plotOn: plotting 1051 events out of 1180 total events\n",
      "[#1] INFO:Plotting -- RooTreeData::plotOn: plotting 129 events out of 1180 total events\n"
     ]
    }
   ],
   "source": [
    "getattr(w,'import')(data)                                                                                       \n",
    "data.Print()                                                                                                    \n",
    "                                                                                                                \n",
    "c = r.TCanvas()                                                                                              \n",
    "plot1 = x.frame(r.RooFit.Title(\"Channel 1\"))                                                                 \n",
    "plot2 = x.frame(r.RooFit.Title(\"Channel 2\"))                                                                 \n",
    "data.plotOn(plot1,r.RooFit.Cut(\"index==index::channel1\"))                                                    \n",
    "data.plotOn(plot2,r.RooFit.Cut(\"index==index::channel2\"))              "
   ]
  },
  {
   "cell_type": "code",
   "execution_count": 26,
   "metadata": {
    "scrolled": true
   },
   "outputs": [
    {
     "name": "stdout",
     "output_type": "stream",
     "text": [
      "[#1] INFO:Minization -- p.d.f. provides expected number of events, including extended term in likelihood.\n",
      "[#1] INFO:Minization -- createNLL: caching constraint set under name CONSTR_OF_PDF_jointModel_FOR_OBS_index:x with 0 entries\n",
      "[#1] INFO:Minization -- RooMinimizer::optimizeConst: activating const optimization\n",
      "RooAbsTestStatistic::initSimMode: creating slave calculator #0 for state channel1 (1051 dataset entries)\n",
      "RooAbsTestStatistic::initSimMode: creating slave calculator #1 for state channel2 (129 dataset entries)\n",
      "[#1] INFO:Fitting -- RooAbsTestStatistic::initSimMode: created 2 slave calculators.\n",
      "[#1] INFO:Minization --  The following expressions have been identified as constant and will be precalculated and cached: (sig_pdf)\n",
      "[#1] INFO:Minization --  The following expressions will be evaluated in cache-and-track mode: (bkg1_pdf)\n",
      "[#1] INFO:Minization --  The following expressions have been identified as constant and will be precalculated and cached: (sig_pdf)\n",
      "[#1] INFO:Minization --  The following expressions will be evaluated in cache-and-track mode: (bkg2_pdf)\n",
      "Minuit2Minimizer: Minimize with max-calls 2500 convergence for edm < 1 strategy 1\n",
      "MnSeedGenerator: for initial parameters FCN = -3906.268315735\n",
      "MnSeedGenerator: Initial state:   - FCN =  -3906.268315735 Edm =      2.24016 NCalls =     19\n",
      "VariableMetric: start iterating until Edm is < 0.001\n",
      "VariableMetric: Initial state   - FCN =  -3906.268315735 Edm =      2.24016 NCalls =     19\n",
      "VariableMetric: Iteration #   0 - FCN =  -3906.268315735 Edm =      2.24016 NCalls =     19\n",
      "VariableMetric: Iteration #   1 - FCN =  -3908.810321478 Edm =     0.110693 NCalls =     34\n",
      "VariableMetric: Iteration #   2 - FCN =  -3908.954615301 Edm =    0.0243331 NCalls =     46\n",
      "VariableMetric: Iteration #   3 - FCN =  -3909.006423138 Edm =    0.0130407 NCalls =     59\n",
      "VariableMetric: Iteration #   4 - FCN =  -3909.034588908 Edm =   0.00124716 NCalls =     71\n",
      "VariableMetric: Iteration #   5 - FCN =  -3909.036394084 Edm =  1.21601e-05 NCalls =     83\n",
      "VariableMetric: After Hessian   - FCN =  -3909.036394084 Edm =  1.75751e-05 NCalls =    116\n",
      "VariableMetric: Iteration #   6 - FCN =  -3909.036394084 Edm =  1.75751e-05 NCalls =    116\n",
      "Minuit2Minimizer : Valid minimum - status = 0\n",
      "FVAL  = -3909.03639408389699\n",
      "Edm   = 1.75750945610646944e-05\n",
      "Nfcn  = 116\n",
      "a1\t  = -0.480898\t +/-  0.0168465\t(limited)\n",
      "a2\t  = -0.2\t +/-  0.0540625\t(limited)\n",
      "mu\t  = 0.796809\t +/-  0.196524\t(limited)\n",
      "nbkg1\t  = 1008.8\t +/-  33.5424\t(limited)\n",
      "nbkg2\t  = 107.47\t +/-  11.2292\t(limited)\n",
      "[#1] INFO:Minization -- RooMinimizer::optimizeConst: deactivating const optimization\n",
      "\n",
      "  RooFitResult: minimized FCN value: -3909.04, estimated distance to minimum: 1.74763e-05\n",
      "                covariance matrix quality: Full, accurate covariance matrix\n",
      "                Status : MINIMIZE=0 HESSE=0 \n",
      "\n",
      "    Floating Parameter    FinalValue +/-  Error   \n",
      "  --------------------  --------------------------\n",
      "                    a1   -4.8090e-01 +/-  1.68e-02\n",
      "                    a2   -2.0000e-01 +/-  5.43e-02\n",
      "                    mu    7.9681e-01 +/-  1.97e-01\n",
      "                 nbkg1    1.0088e+03 +/-  3.35e+01\n",
      "                 nbkg2    1.0747e+02 +/-  1.12e+01\n",
      "\n",
      "[#1] INFO:Plotting -- RooTreeData::plotOn: plotting 1051 events out of 1180 total events\n",
      "[#1] INFO:Plotting -- RooTreeData::plotOn: plotting 129 events out of 1180 total events\n",
      "[#1] INFO:Plotting -- RooSimultaneous::plotOn(jointModel) plot on x represents a slice in the index category (index)\n",
      "[#1] INFO:Plotting -- RooAbsReal::plotOn(model1) slice variable index was not projected anyway\n",
      "[#1] INFO:Plotting -- RooSimultaneous::plotOn(jointModel) plot on x represents a slice in the index category (index)\n",
      "[#1] INFO:Plotting -- RooAbsReal::plotOn(model2) slice variable index was not projected anyway\n"
     ]
    },
    {
     "name": "stderr",
     "output_type": "stream",
     "text": [
      "Info in <TCanvas::Print>: png file plots/Simultaneous_data.png has been created\n",
      "Info in <Minuit2>: Minuit2Minimizer::Hesse : Hesse is valid - matrix is accurate\n",
      "Info in <TCanvas::Print>: png file plots/SimultaneousFit.png has been created\n"
     ]
    },
    {
     "data": {
      "image/png": "[encoded data removed]",
      "text/plain": [
       "<IPython.core.display.Image object>"
      ]
     },
     "metadata": {},
     "output_type": "display_data"
    }
   ],
   "source": [
    "c.Divide(1,2)                                                                                                   \n",
    "c.cd(1)                                                                                                         \n",
    "plot1.Draw()                                                                                                    \n",
    "c.cd(2)                                                                                                         \n",
    "plot2.Draw()                                                                                                    \n",
    "c.SaveAs(\"plots/Simultaneous_data.png\")                                                                               \n",
    "c.Draw()                                                                                                                \n",
    "if(doFit):                                                                                                      \n",
    "    res = pdf.fitTo(data, r.RooFit.Save(True), r.RooFit.Minimizer(\"Minuit2\",\"Migrad\"))                      \n",
    "    res.Print()                                                                                                   \n",
    "    c = r.TCanvas()                                                                                          \n",
    "    plot1 = x.frame(r.RooFit.Title(\"Channel 1\"))                                                             \n",
    "    plot2 = x.frame(r.RooFit.Title(\"Channel 2\"))                                                             \n",
    "    data.plotOn(plot1,r.RooFit.Cut(\"index==index::channel1\"))                                                \n",
    "    data.plotOn(plot2,r.RooFit.Cut(\"index==index::channel2\"))                                                \n",
    "                                                                                                                \n",
    "    pdf.plotOn(plot1,r.RooFit.ProjWData(data),r.RooFit.Slice(w.cat(\"index\"),\"channel1\"))                  \n",
    "    pdf.plotOn(plot2,r.RooFit.ProjWData(data),r.RooFit.Slice(w.cat(\"index\"),\"channel2\"))     \n",
    "    c.Divide(1,2)                                                                                               \n",
    "    c.cd(1)                                                                                                     \n",
    "    plot1.Draw()                                                                                                \n",
    "    c.cd(2)                                                                                                     \n",
    "    plot2.Draw()                                                                                                \n",
    "    c.SaveAs(\"plots/SimultaneousFit.png\")                                                                             \n",
    "    c.Draw()\n",
    "    \n",
    "    mc = r.RooStats.ModelConfig(\"ModelConfig\",w)                                                             \n",
    "    mc.SetPdf(pdf)                                                                                              \n",
    "    mc.SetParametersOfInterest(r.RooArgSet(w.var(\"mu\")))                                                     \n",
    "    mc.SetObservables(r.RooArgSet(w.var(\"x\"),w.cat(\"index\")))                                                \n",
    "    w.defineSet(\"nuisParams\",\"a1,nbkg1,a2,nbkg2\")                                                               \n",
    "    mc.SetNuisanceParameters(w.set(\"nuisParams\"))                                                               \n",
    "    mc.SetSnapshot(r.RooArgSet(w.var(\"mu\")))                                                                 \n",
    "    getattr(w,'import')(mc)                                                                                     \n",
    "    w.writeToFile(\"plots/SimultaneousModel.root\",True)                          "
   ]
  },
  {
   "cell_type": "code",
   "execution_count": null,
   "metadata": {},
   "outputs": [],
   "source": []
  }
 ],
 "metadata": {
  "kernelspec": {
   "display_name": "ROOFIT_IndiaCMS2020",
   "language": "python",
   "name": "roofit_indiacms2020"
  },
  "language_info": {
   "codemirror_mode": {
    "name": "ipython",
    "version": 2
   },
   "file_extension": ".py",
   "mimetype": "text/x-python",
   "name": "python",
   "nbconvert_exporter": "python",
   "pygments_lexer": "ipython2",
   "version": "2.7.15+"
  }
 },
 "nbformat": 4,
 "nbformat_minor": 2
}
