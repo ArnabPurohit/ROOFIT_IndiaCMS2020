{
 "cells": [
  {
   "cell_type": "code",
   "execution_count": 1,
   "metadata": {},
   "outputs": [
    {
     "name": "stdout",
     "output_type": "stream",
     "text": [
      "Welcome to JupyROOT 6.14/09\n"
     ]
    }
   ],
   "source": [
    "import ROOT as r"
   ]
  },
  {
   "cell_type": "code",
   "execution_count": 2,
   "metadata": {},
   "outputs": [
    {
     "name": "stdout",
     "output_type": "stream",
     "text": [
      "TFile**\t\tdata/Hgg_Background_data.root\t\n",
      " TFile*\t\tdata/Hgg_Background_data.root\t\n",
      "  KEY: RooWorkspace\twnew;1\tworkspace\n",
      "  KEY: TProcessID\tProcessID0;1\tc4114b10-db48-11ea-8a94-aa94d380beef\n"
     ]
    }
   ],
   "source": [
    "inputfile = r.TFile(\"data/Hgg_Background_data.root\",\"READ\")\n",
    "inputfile.ls()"
   ]
  },
  {
   "cell_type": "code",
   "execution_count": 3,
   "metadata": {},
   "outputs": [],
   "source": [
    "w = inputfile.Get(\"wnew\")"
   ]
  },
  {
   "cell_type": "code",
   "execution_count": 4,
   "metadata": {},
   "outputs": [
    {
     "name": "stdout",
     "output_type": "stream",
     "text": [
      "\n",
      "RooWorkspace(wnew) workspace contents\n",
      "\n",
      "variables\n",
      "---------\n",
      "(CMS_hgg_mass)\n",
      "\n",
      "datasets\n",
      "--------\n",
      "RooDataHist::roohist_data_mass_UntaggedTag_0(CMS_hgg_mass)\n",
      "\n"
     ]
    }
   ],
   "source": [
    "w.Print()"
   ]
  },
  {
   "cell_type": "code",
   "execution_count": 5,
   "metadata": {},
   "outputs": [],
   "source": [
    "higgs_mass = w.var(\"CMS_hgg_mass\")\n",
    "mgg_low,mgg_high = 100,180\n",
    "higgs_mass.setRange(\"unblindReg_1\",mgg_low,115)\n",
    "higgs_mass.setRange(\"unblindReg_2\",135,mgg_high)\n",
    "data_hist = w.data(\"roohist_data_mass_UntaggedTag_0\")"
   ]
  },
  {
   "cell_type": "code",
   "execution_count": 6,
   "metadata": {},
   "outputs": [
    {
     "name": "stdout",
     "output_type": "stream",
     "text": [
      "[#1] INFO:Plotting -- RooTreeData::plotOn: plotting 722 events out of 1538 total events\n",
      "[#1] INFO:Plotting -- RooTreeData::plotOn: plotting 325 events out of 1538 total events\n"
     ]
    }
   ],
   "source": [
    "frame = higgs_mass.frame(r.RooFit.Title(\"Higgs background\"))\n",
    "#data_hist.plotOn(frame)\n",
    "data_hist.plotOn(frame,r.RooFit.Binning(mgg_high-mgg_low),r.RooFit.CutRange(\"unblindReg_1\"))\n",
    "data_hist.plotOn(frame,r.RooFit.Binning(mgg_high-mgg_low),r.RooFit.CutRange(\"unblindReg_2\"))\n",
    "#data_hist.plotOn(frame,r.RooFit.Binning(mgg_high-mgg_low),r.RooFit.Invisible())\n",
    "frame.SetMinimum(0.0001)"
   ]
  },
  {
   "cell_type": "code",
   "execution_count": 7,
   "metadata": {},
   "outputs": [
    {
     "data": {
      "image/png": "[encoded data removed]",
      "text/plain": [
       "<IPython.core.display.Image object>"
      ]
     },
     "metadata": {},
     "output_type": "display_data"
    }
   ],
   "source": [
    "c = r.TCanvas(\"Exercise0x\",\"Exercise0x\",800,400)\n",
    "frame.Draw()\n",
    "c.Draw()"
   ]
  },
  {
   "cell_type": "code",
   "execution_count": null,
   "metadata": {},
   "outputs": [],
   "source": []
  }
 ],
 "metadata": {
  "kernelspec": {
   "display_name": "ROOFIT_IndiaCMS2020",
   "language": "python",
   "name": "roofit_indiacms2020"
  },
  "language_info": {
   "codemirror_mode": {
    "name": "ipython",
    "version": 2
   },
   "file_extension": ".py",
   "mimetype": "text/x-python",
   "name": "python",
   "nbconvert_exporter": "python",
   "pygments_lexer": "ipython2",
   "version": "2.7.15+"
  }
 },
 "nbformat": 4,
 "nbformat_minor": 2
}
