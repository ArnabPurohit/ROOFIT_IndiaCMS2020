{
 "cells": [
  {
   "cell_type": "code",
   "execution_count": 1,
   "metadata": {},
   "outputs": [
    {
     "name": "stdout",
     "output_type": "stream",
     "text": [
      "Welcome to JupyROOT 6.14/09\n"
     ]
    }
   ],
   "source": [
    "import ROOT as r"
   ]
  },
  {
   "cell_type": "code",
   "execution_count": 2,
   "metadata": {},
   "outputs": [],
   "source": [
    "x = r.RooRealVar(\"x\",\"M_{ee}\",60,120, \"GeV\")"
   ]
  },
  {
   "cell_type": "code",
   "execution_count": 5,
   "metadata": {},
   "outputs": [
    {
     "name": "stdout",
     "output_type": "stream",
     "text": [
      "TFile**\t\tdata/et_vs_mass_DYSample_massrange50_300_datamc_bothHighR9.root\t\n",
      " TFile*\t\tdata/et_vs_mass_DYSample_massrange50_300_datamc_bothHighR9.root\t\n",
      "  KEY: TH1F\tHist0_data;1\t(Et1+Et2)_bin_50_to_60_GeV_for_data\n",
      "  KEY: TH1F\tHist0_MC;1\t(Et1+Et2)_bin_50_to_60_GeV_for_MC\n",
      "  KEY: TH1F\tHist1_data;1\t(Et1+Et2)_bin_60_to_70_GeV_for_data\n",
      "  KEY: TH1F\tHist1_MC;1\t(Et1+Et2)_bin_60_to_70_GeV_for_MC\n",
      "  KEY: TH1F\tHist2_data;1\t(Et1+Et2)_bin_70_to_75_GeV_for_data\n",
      "  KEY: TH1F\tHist2_MC;1\t(Et1+Et2)_bin_70_to_75_GeV_for_MC\n",
      "  KEY: TH1F\tHist3_data;1\t(Et1+Et2)_bin_75_to_80_GeV_for_data\n",
      "  KEY: TH1F\tHist3_MC;1\t(Et1+Et2)_bin_75_to_80_GeV_for_MC\n",
      "  KEY: TH1F\tHist4_data;1\t(Et1+Et2)_bin_80_to_85_GeV_for_data\n",
      "  KEY: TH1F\tHist4_MC;1\t(Et1+Et2)_bin_80_to_85_GeV_for_MC\n",
      "  KEY: TH1F\tHist5_data;1\t(Et1+Et2)_bin_85_to_90_GeV_for_data\n",
      "  KEY: TH1F\tHist5_MC;1\t(Et1+Et2)_bin_85_to_90_GeV_for_MC\n",
      "  KEY: TH1F\tHist6_data;1\t(Et1+Et2)_bin_90_to_95_GeV_for_data\n",
      "  KEY: TH1F\tHist6_MC;1\t(Et1+Et2)_bin_90_to_95_GeV_for_MC\n",
      "  KEY: TH1F\tHist7_data;1\t(Et1+Et2)_bin_95_to_100_GeV_for_data\n",
      "  KEY: TH1F\tHist7_MC;1\t(Et1+Et2)_bin_95_to_100_GeV_for_MC\n",
      "  KEY: TH1F\tHist8_data;1\t(Et1+Et2)_bin_100_to_110_GeV_for_data\n",
      "  KEY: TH1F\tHist8_MC;1\t(Et1+Et2)_bin_100_to_110_GeV_for_MC\n",
      "  KEY: TH1F\tHist9_data;1\t(Et1+Et2)_bin_110_to_120_GeV_for_data\n",
      "  KEY: TH1F\tHist9_MC;1\t(Et1+Et2)_bin_110_to_120_GeV_for_MC\n",
      "  KEY: TH1F\tHist10_data;1\t(Et1+Et2)_bin_120_to_140_GeV_for_data\n",
      "  KEY: TH1F\tHist10_MC;1\t(Et1+Et2)_bin_120_to_140_GeV_for_MC\n",
      "  KEY: TH1F\tHist11_data;1\t(Et1+Et2)_bin_140_to_160_GeV_for_data\n",
      "  KEY: TH1F\tHist11_MC;1\t(Et1+Et2)_bin_140_to_160_GeV_for_MC\n",
      "  KEY: TH1F\tHist12_data;1\t(Et1+Et2)_bin_160_to_180_GeV_for_data\n",
      "  KEY: TH1F\tHist12_MC;1\t(Et1+Et2)_bin_160_to_180_GeV_for_MC\n",
      "  KEY: TH1F\tHist13_data;1\t(Et1+Et2)_bin_180_to_200_GeV_for_data\n",
      "  KEY: TH1F\tHist13_MC;1\t(Et1+Et2)_bin_180_to_200_GeV_for_MC\n",
      "  KEY: TH1F\tHist14_data;1\t(Et1+Et2)_bin_200_to_250_GeV_for_data\n",
      "  KEY: TH1F\tHist14_MC;1\t(Et1+Et2)_bin_200_to_250_GeV_for_MC\n",
      "  KEY: TH1F\tHist15_data;1\t(Et1+Et2)_bin_250_to_300_GeV_for_data\n",
      "  KEY: TH1F\tHist15_MC;1\t(Et1+Et2)_bin_250_to_300_GeV_for_MC\n",
      "  KEY: TH1F\tHist16_data;1\t(Et1+Et2)_bin_300_to_9999_GeV_for_data\n",
      "  KEY: TH1F\tHist16_MC;1\t(Et1+Et2)_bin_300_to_9999_GeV_for_MC\n",
      "  KEY: TH1F\tetsum;1\tetsum\n"
     ]
    }
   ],
   "source": [
    "inputfile = r.TFile(\"data/et_vs_mass_DYSample_massrange50_300_datamc_bothHighR9.root\", \"READ\")\n",
    "inputfile.ls()"
   ]
  },
  {
   "cell_type": "code",
   "execution_count": 17,
   "metadata": {},
   "outputs": [
    {
     "name": "stdout",
     "output_type": "stream",
     "text": [
      "[#1] INFO:DataHandling -- RooDataHist::adjustBinning(rdh_data): fit range of variable x expanded to nearest bin boundaries: [60,120] --> [60,120]\n",
      "[#1] INFO:DataHandling -- RooDataHist::adjustBinning(rdh_MC): fit range of variable x expanded to nearest bin boundaries: [60,120] --> [60,120]\n"
     ]
    }
   ],
   "source": [
    "data_hist = inputfile.Get(\"Hist0_data\");                                                             \n",
    "MC_hist = inputfile.Get(\"Hist0_MC\");                                                                 \n",
    "#data_hist->Rebin(5);                                                                                      \n",
    "#MC_hist->Rebin(5);                                                                                         \n",
    "                                                                                                                \n",
    "rdh_data = r.RooDataHist(\"rdh_data\",\"\", r.RooArgList(x), r.RooFit.Import(data_hist))                                         \n",
    "rdh_MC = r.RooDataHist(\"rdh_MC\",\"\", r.RooArgList(x), r.RooFit.Import(MC_hist)) \n",
    "#ras_rdh_MC = r.RooArgSet(rdh_MC)\n",
    "rdh_pdf = r.RooHistPdf(\"rdh_pdf\", \"\", r.RooArgSet(x), rdh_MC );           "
   ]
  },
  {
   "cell_type": "code",
   "execution_count": 18,
   "metadata": {},
   "outputs": [
    {
     "name": "stdout",
     "output_type": "stream",
     "text": [
      "[#1] INFO:Minization -- RooMinimizer::optimizeConst: activating const optimization\n",
      "[#1] INFO:Minization --  The following expressions have been identified as constant and will be precalculated and cached: (rdh_pdf)\n",
      "[#0] WARNING:Minization -- RooMinimizer::hesse: Error, run Migrad before Hesse!\n",
      "[#1] INFO:Minization -- RooMinimizer::optimizeConst: deactivating const optimization\n",
      "[#1] INFO:InputArguments -- RooAbsData::plotOn(rdh_MC) INFO: dataset has non-integer weights, auto-selecting SumW2 errors instead of Poisson errors\n"
     ]
    },
    {
     "name": "stderr",
     "output_type": "stream",
     "text": [
      "Error in <ROOT::Math::Fitter::SetFCN>: FCN function has zero parameters \n"
     ]
    }
   ],
   "source": [
    "xframe = x.frame(r.RooFit.Title(\"Data Hist and Template Fit\"))                                              \n",
    "xframe2 = x.frame(r.RooFit.Title(\"MC Hist\"))     \n",
    "rdh_data.plotOn(xframe) ;                                                                                    \n",
    "rdh_pdf.fitTo(rdh_data,r.RooFit.Extended())\n",
    "rdh_pdf.plotOn(xframe) ;                                                                                     \n",
    "rdh_MC.plotOn(xframe2);                                                    "
   ]
  },
  {
   "cell_type": "code",
   "execution_count": 20,
   "metadata": {},
   "outputs": [
    {
     "name": "stderr",
     "output_type": "stream",
     "text": [
      "Warning in <TCanvas::Constructor>: Deleting canvas with same name: Exercise05\n",
      "Info in <TCanvas::Print>: png file plots/Exercise05.png has been created\n"
     ]
    },
    {
     "data": {
      "image/png": "[encoded data removed]",
      "text/plain": [
       "<IPython.core.display.Image object>"
      ]
     },
     "metadata": {},
     "output_type": "display_data"
    }
   ],
   "source": [
    "c = r.TCanvas(\"Exercise05\",\"Exercise05\",800,400) ;                                             \n",
    "c.Divide(2) ;                                                                                                \n",
    "c.cd(1) ; r.gPad.SetLeftMargin(0.15) ;  xframe.GetYaxis().SetTitleOffset(1.6) ; xframe2.Draw() ;           \n",
    "c.cd(2) ; r.gPad.SetLeftMargin(0.15) ; xframe2.GetYaxis().SetTitleOffset(1.6) ; xframe.Draw() ;            \n",
    "c.Draw()       \n",
    "c.SaveAs(\"plots/Exercise05.png\")"
   ]
  },
  {
   "cell_type": "code",
   "execution_count": null,
   "metadata": {},
   "outputs": [],
   "source": []
  }
 ],
 "metadata": {
  "kernelspec": {
   "display_name": "ROOFIT_IndiaCMS2020",
   "language": "python",
   "name": "roofit_indiacms2020"
  },
  "language_info": {
   "codemirror_mode": {
    "name": "ipython",
    "version": 2
   },
   "file_extension": ".py",
   "mimetype": "text/x-python",
   "name": "python",
   "nbconvert_exporter": "python",
   "pygments_lexer": "ipython2",
   "version": "2.7.15+"
  }
 },
 "nbformat": 4,
 "nbformat_minor": 2
}
