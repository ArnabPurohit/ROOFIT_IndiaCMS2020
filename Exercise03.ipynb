{
 "cells": [
  {
   "cell_type": "code",
   "execution_count": 1,
   "metadata": {},
   "outputs": [
    {
     "name": "stdout",
     "output_type": "stream",
     "text": [
      "Welcome to JupyROOT 6.14/09\n"
     ]
    }
   ],
   "source": [
    "import ROOT as r"
   ]
  },
  {
   "cell_type": "markdown",
   "metadata": {},
   "source": [
    "***\n",
    "In this tutorial we shall build a signal and a background model to fit a di-electron invariant mass distribution. The signal model is a BreitWigner convoluted with crystal ball. The background is modelled as an exponential distrinution.\n",
    "***"
   ]
  },
  {
   "cell_type": "code",
   "execution_count": 2,
   "metadata": {},
   "outputs": [],
   "source": [
    "m = r.RooRealVar(\"m\",\"e^{+} e^{-} Inv. Mass (in GeV)\",75,120,\"GeV\")"
   ]
  },
  {
   "cell_type": "code",
   "execution_count": 3,
   "metadata": {},
   "outputs": [
    {
     "name": "stdout",
     "output_type": "stream",
     "text": [
      "TFile**\t\tMyAn_data_SingleElectron.root\t\n",
      " TFile*\t\tMyAn_data_SingleElectron.root\t\n",
      "  KEY: TH1F\th1;1\tinvariant mass plot\n"
     ]
    }
   ],
   "source": [
    "inputfile = r.TFile(\"MyAn_data_SingleElectron.root\",\"READ\")\n",
    "inputfile.ls()"
   ]
  },
  {
   "cell_type": "code",
   "execution_count": 4,
   "metadata": {},
   "outputs": [],
   "source": [
    "heg = inputfile.Get(\"h1\")"
   ]
  },
  {
   "cell_type": "code",
   "execution_count": 5,
   "metadata": {},
   "outputs": [
    {
     "name": "stdout",
     "output_type": "stream",
     "text": [
      "[#1] INFO:DataHandling -- RooDataHist::adjustBinning(dh): fit range of variable m expanded to nearest bin boundaries: [75,120] --> [75,120]\n"
     ]
    }
   ],
   "source": [
    "dh = r.RooDataHist(\"dh\",\"dh\",r.RooArgList(m),r.RooFit.Import(heg))"
   ]
  },
  {
   "cell_type": "code",
   "execution_count": 6,
   "metadata": {},
   "outputs": [
    {
     "data": {
      "text/plain": [
       "<ROOT.RooPlot object (\"frame_m_6e6aef0\") at 0x6e6aef0>"
      ]
     },
     "execution_count": 6,
     "metadata": {},
     "output_type": "execute_result"
    }
   ],
   "source": [
    "frame = m.frame(r.RooFit.Title(\"M_{e^{+} e^{-}}\"))\n",
    "dh.plotOn(frame,r.RooFit.Name(\"dh\"))"
   ]
  },
  {
   "cell_type": "code",
   "execution_count": 33,
   "metadata": {},
   "outputs": [],
   "source": [
    "mBW = r.RooRealVar(\"mBW\",\"mean BW\",91.1875,60,120)                                                              \n",
    "sBW = r.RooRealVar(\"sBW\",\"sigma BW\",2.4952,0.0,10.0)                                                            \n",
    "brietwigner = r.RooBreitWigner(\"BW\",\"BW\",m,mBW,sBW)                                                             \n",
    "                                                                                                                \n",
    "mCB = r.RooRealVar(\"mCB\", \"mCB\" ,0.1,0,1.0)                                                                       \n",
    "sCB = r.RooRealVar(\"sCB\", \"sCB\" ,2.3 , 0.0, 5.0)                                                               \n",
    "nCB = r.RooRealVar(\"nCB\",\"nCB\", 1,0.,5.0)                                                                        \n",
    "#RooRealVar nCB(\"nCB\",\"\", 1.42,0.001,50)                                                                    \n",
    "alphaCB = r.RooRealVar(\"alphaCB\",\"\", 0.93,0.1,5.0)                                                               \n",
    "#RooRealVar alphaCB(\"alphaCB\",\"\", 0.93,0.1 , 50)                                                            \n",
    "cball = r.RooCBShape(\"cball\",\"cball\",m,mCB,sCB, alphaCB, nCB)\n",
    "\n",
    "\n",
    "bwcball = r.RooFFTConvPdf(\"BWxcball\",\"BW(X)cball\",m,brietwigner, cball)"
   ]
  },
  {
   "cell_type": "code",
   "execution_count": 34,
   "metadata": {},
   "outputs": [],
   "source": [
    "lambd = r.RooRealVar(\"lambd\", \"slope\", -0.1, -5.0, 0.0)                                                        \n",
    "bkgshape = r.RooExponential(\"expo\", \"exponential PDF\", m, lambd)                                                   "
   ]
  },
  {
   "cell_type": "code",
   "execution_count": 35,
   "metadata": {},
   "outputs": [],
   "source": [
    "nsig = r.RooRealVar(\"nsig\",\"signal events\",50000,0,8000000);                                                      \n",
    "nbkg = r.RooRealVar(\"nbkg\",\"signal background events\",1000,0,2000000);                                            \n",
    "                                                                                                                \n",
    "model = r.RooAddPdf(\"model\",\"bwcball+shape\",r.RooArgList(bwcball,bkgshape),r.RooArgList(nsig,nbkg)) ;                   "
   ]
  },
  {
   "cell_type": "code",
   "execution_count": 36,
   "metadata": {},
   "outputs": [
    {
     "data": {
      "text/plain": [
       "<ROOT.RooFitResult object at 0x(nil)>"
      ]
     },
     "execution_count": 36,
     "metadata": {},
     "output_type": "execute_result"
    },
    {
     "name": "stdout",
     "output_type": "stream",
     "text": [
      "[#1] INFO:Fitting -- RooAbsOptTestStatistic::ctor(nll_model_dh) constructing test statistic for sub-range named fit\n",
      "[#1] INFO:Fitting -- RooAbsOptTestStatistic::ctor(nll_model_dh) fixing interpretation of coefficients of any RooAddPdf to full domain of observables \n",
      "[#1] INFO:Caching -- RooAbsCachedPdf::getCache(BWxcball) creating new cache 0x618e710 with pdf BW_CONV_cball_CACHE_Obs[m] for nset (m) with code 0\n",
      "[#1] INFO:Minization -- RooMinimizer::optimizeConst: activating const optimization\n",
      "[#1] INFO:Caching -- RooAbsCachedPdf::getCache(BWxcball) creating new cache 0x7377470 with pdf BW_CONV_cball_CACHE_Obs[m] for nset (m) with code 0 from preexisting content.\n",
      "[#1] INFO:Minization --  The following expressions will be evaluated in cache-and-track mode: (BWxcball,expo)\n",
      " **********\n",
      " **   19 **SET PRINT           1\n",
      " **********\n",
      " **********\n",
      " **   20 **SET NOGRAD\n",
      " **********\n",
      " PARAMETER DEFINITIONS:\n",
      "    NO.   NAME         VALUE      STEP SIZE      LIMITS\n",
      "     1 alphaCB      9.30000e-01  4.15000e-01    1.00000e-01  5.00000e+00\n",
      "     2 lambd       -1.00000e-01  5.00000e-02   -5.00000e+00  0.00000e+00\n",
      "     3 mBW          9.11875e+01  6.00000e+00    6.00000e+01  1.20000e+02\n",
      "     4 mCB          1.00000e-01  5.00000e-02    0.00000e+00  1.00000e+00\n",
      "     5 nCB          1.00000e+00  5.00000e-01    0.00000e+00  5.00000e+00\n",
      "     6 nbkg         1.00000e+03  5.00000e+02    0.00000e+00  2.00000e+06\n",
      "     7 nsig         5.00000e+04  2.50000e+04    0.00000e+00  8.00000e+06\n",
      "     8 sBW          2.49520e+00  1.00000e+00    0.00000e+00  1.00000e+01\n",
      "     9 sCB          2.30000e+00  5.00000e-01    0.00000e+00  5.00000e+00\n",
      " **********\n",
      " **   21 **SET ERR         0.5\n",
      " **********\n",
      " **********\n",
      " **   22 **SET PRINT           1\n",
      " **********\n",
      " **********\n",
      " **   23 **SET STR           1\n",
      " **********\n",
      " NOW USING STRATEGY  1: TRY TO BALANCE SPEED AGAINST RELIABILITY\n",
      " **********\n",
      " **   24 **MIGRAD        4500           1\n",
      " **********\n",
      " FIRST CALL TO USER FUNCTION AT NEW START POINT, WITH IFLAG=4.\n",
      " START MIGRAD MINIMIZATION.  STRATEGY  1.  CONVERGENCE WHEN EDM .LT. 1.00e-03\n",
      " FCN=-3.81533e+07 FROM MIGRAD    STATUS=INITIATE      174 CALLS         175 TOTAL\n",
      "                     EDM= unknown      STRATEGY= 1      NO ERROR MATRIX       \n",
      "  EXT PARAMETER               CURRENT GUESS       STEP         FIRST   \n",
      "  NO.   NAME      VALUE            ERROR          SIZE      DERIVATIVE \n",
      "   1  alphaCB      9.30000e-01   4.15000e-01   0.00000e+00  -5.58108e+05\n",
      "   2  lambd       -4.89522e-02   5.00000e-02   0.00000e+00   3.83005e+05\n",
      "   3  mBW          9.11875e+01   6.00000e+00   0.00000e+00   1.39637e+05\n",
      "   4  mCB          1.00000e-01   5.00000e-02   0.00000e+00   7.82236e+02\n",
      "   5  nCB          1.00000e+00   5.00000e-01   0.00000e+00  -3.23453e+05\n",
      "   6  nbkg         1.35188e+05   5.00000e+02   0.00000e+00  -1.01922e+05\n",
      "   7  nsig         3.01403e+06   2.50000e+04   1.16346e+00  -4.65834e+05\n",
      "   8  sBW          2.49520e+00   1.00000e+00   0.00000e+00  -1.33587e+05\n",
      "   9  sCB          2.30000e+00   5.00000e-01   0.00000e+00   1.10352e+05\n",
      "                               ERR DEF= 0.5\n",
      " MIGRAD FAILS TO FIND IMPROVEMENT\n",
      " EIGENVALUES OF SECOND-DERIVATIVE MATRIX:\n",
      "        -9.4053e-03  2.6741e-02  1.4815e-01  2.2640e-01  6.9741e-01  1.0726e+00  1.4257e+00  2.2676e+00  3.1448e+00\n",
      " MINUIT WARNING IN HESSE   \n",
      " ============== MATRIX FORCED POS-DEF BY ADDING 0.012550 TO DIAGONAL.\n",
      " FCN=-3.83564e+07 FROM HESSE     STATUS=NOT POSDEF     81 CALLS        1121 TOTAL\n",
      "                     EDM=1.8212    STRATEGY= 1      ERR MATRIX NOT POS-DEF\n",
      "  EXT PARAMETER                APPROXIMATE        STEP         FIRST   \n",
      "  NO.   NAME      VALUE            ERROR          SIZE      DERIVATIVE \n",
      "   1  alphaCB      8.93326e-01   5.00150e-03   3.58566e-03   5.64558e+02\n",
      "   2  lambd       -1.39073e-02   1.54231e-04   1.91236e-03  -4.90269e+02\n",
      "   3  mBW          9.01215e+01   2.91184e-02   3.34711e-04   1.93291e+03\n",
      "   4  mCB          7.98398e-01   3.01919e-02   2.45926e-02  -1.95859e+01\n",
      "   5  nCB          4.99474e+00   8.77366e-03   1.95488e-01   2.58344e+01\n",
      "   6  nbkg         7.05555e+05   2.45866e+03   5.66092e-03  -6.52142e+01\n",
      "   7  nsig         2.83319e+06   2.84276e+03   2.02791e-03  -7.46296e+01\n",
      "   8  sBW          3.15722e+00   1.36383e-02   4.86000e-03  -1.05467e+02\n",
      "   9  sCB          1.51530e+00   8.50168e-03   4.71606e-03  -3.07460e+02\n",
      "                               ERR DEF= 0.5\n",
      " MINUIT WARNING IN MIGRAD  \n",
      " ============== Negative diagonal element 3 in Error Matrix\n",
      " MINUIT WARNING IN MIGRAD  \n",
      " ============== Negative diagonal element 4 in Error Matrix\n",
      " MINUIT WARNING IN MIGRAD  \n",
      " ============== 1.0084 added to diagonal of error matrix\n",
      " MINUIT WARNING IN MIGRAD  \n",
      " ============== Negative diagonal element 3 in Error Matrix\n",
      " MINUIT WARNING IN MIGRAD  \n",
      " ============== Negative diagonal element 4 in Error Matrix\n",
      " MINUIT WARNING IN MIGRAD  \n",
      " ============== 1.00659 added to diagonal of error matrix\n",
      " MINUIT WARNING IN MIGRAD  \n",
      " ============== Negative diagonal element 3 in Error Matrix\n",
      " MINUIT WARNING IN MIGRAD  \n",
      " ============== Negative diagonal element 4 in Error Matrix\n",
      " MINUIT WARNING IN MIGRAD  \n",
      " ============== 1.01188 added to diagonal of error matrix\n",
      " MINUIT WARNING IN MIGRAD  \n",
      " ============== Negative diagonal element 3 in Error Matrix\n",
      " MINUIT WARNING IN MIGRAD  \n",
      " ============== Negative diagonal element 4 in Error Matrix\n",
      " MINUIT WARNING IN MIGRAD  \n",
      " ============== 1.00563 added to diagonal of error matrix\n",
      " MINUIT WARNING IN MIGRAD  \n",
      " ============== Negative diagonal element 3 in Error Matrix\n",
      " MINUIT WARNING IN MIGRAD  \n",
      " ============== Negative diagonal element 4 in Error Matrix\n",
      " MINUIT WARNING IN MIGRAD  \n",
      " ============== Negative diagonal element 5 in Error Matrix\n",
      " MINUIT WARNING IN MIGRAD  \n",
      " ============== 3.70033 added to diagonal of error matrix\n",
      " CALL LIMIT EXCEEDED IN MIGRAD.\n",
      " MIGRAD TERMINATED WITHOUT CONVERGENCE.\n",
      " FCN=-3.83564e+07 FROM MIGRAD    STATUS=CALL LIMIT   4505 CALLS        4506 TOTAL\n",
      "                     EDM=24874.9    STRATEGY= 1      ERR MATRIX NOT POS-DEF\n",
      "  EXT PARAMETER                APPROXIMATE        STEP         FIRST   \n",
      "  NO.   NAME      VALUE            ERROR          SIZE      DERIVATIVE \n",
      "   1  alphaCB      8.91901e-01   2.67758e+00   8.41781e-07  -1.78950e+01\n",
      "   2  lambd       -1.39162e-02   3.35364e+00  -9.06608e-07   8.47736e+01\n",
      "   3  mBW          8.99625e+01   2.70167e+00   1.25493e-05   7.14013e+00\n",
      "   4  mCB          9.58467e-01   1.29607e-01  -1.35140e-07   2.32169e+01\n",
      "   5  nCB          4.99939e+00   3.43013e+00  -9.54282e-08   1.21481e+01\n",
      "   6  nbkg         7.05938e+05   1.35104e+06  -4.12684e-09   8.88811e-02\n",
      "   7  nsig         2.83297e+06   5.40918e+06  -4.16490e-07   6.65915e+01\n",
      "   8  sBW          3.15200e+00   6.54082e+00   1.61270e-07  -1.37483e+01\n",
      "   9  sCB          1.51689e+00   3.23510e+00   3.12611e-08   5.93327e+00\n",
      "                               ERR DEF= 0.5\n",
      " EXTERNAL ERROR MATRIX.    NDIM=  25    NPAR=  9    ERR DEF=0.5\n",
      "  5.999e+00  1.572e-03 -5.797e+00  4.297e-04 -1.069e-05  6.579e+01  5.509e+02 -5.584e-03 -2.315e-03 \n",
      "  1.572e-03  1.283e-01  4.493e-01 -2.583e-05  3.419e-07 -3.778e+00 -4.402e+01  4.263e-04  1.851e-04 \n",
      " -5.797e+00  4.493e-01  7.319e+00  1.943e-02  3.552e-03  1.501e+04  1.614e+05 -1.575e+00 -6.811e-01 \n",
      "  4.297e-04 -2.583e-05  1.943e-02  1.990e-02  3.383e-03  1.647e+01  1.304e+01  3.391e-04  1.706e-05 \n",
      " -1.069e-05  3.419e-07  3.552e-03  3.383e-03  5.443e-03 -1.138e+00 -1.218e+00 -1.692e-05  5.355e-07 \n",
      "  6.579e+01 -3.778e+00  1.501e+04  1.647e+01 -1.138e+00  1.690e+12 -9.754e+06 -2.503e+01  3.032e+01 \n",
      "  5.509e+02 -4.402e+01  1.614e+05  1.304e+01 -1.218e+00 -9.754e+06  2.708e+13  1.934e+02  4.172e+01 \n",
      " -5.584e-03  4.263e-04 -1.575e+00  3.391e-04 -1.692e-05 -2.503e+01  1.934e+02  3.993e+01 -8.341e-04 \n",
      " -2.315e-03  1.851e-04 -6.811e-01  1.706e-05  5.355e-07  3.032e+01  4.172e+01 -8.341e-04  9.775e+00 \n",
      "ERR MATRIX NOT POS-DEF\n",
      " PARAMETER  CORRELATION COEFFICIENTS  \n",
      "       NO.  GLOBAL      1      2      3      4      5      6      7      8      9\n",
      "        1  1.00000   1.000  0.002 -0.875  0.001 -0.000  0.000  0.000 -0.000 -0.000\n",
      "        2  1.00000   0.002  1.000  0.464 -0.001  0.000 -0.000 -0.000  0.000  0.000\n",
      "        3  1.00000  -0.875  0.464  1.000  0.051  0.018  0.004  0.011 -0.092 -0.081\n",
      "        4  0.99986   0.001 -0.001  0.051  1.000  0.325  0.000  0.000  0.000  0.000\n",
      "        5  0.71241  -0.000  0.000  0.018  0.325  1.000 -0.000 -0.000 -0.000  0.000\n",
      "        6  0.98010   0.000 -0.000  0.004  0.000 -0.000  1.000 -0.000 -0.000  0.000\n",
      "        7  0.99717   0.000 -0.000  0.011  0.000 -0.000 -0.000  1.000  0.000  0.000\n",
      "        8  0.99996  -0.000  0.000 -0.092  0.000 -0.000 -0.000  0.000  1.000 -0.000\n",
      "        9  0.99994  -0.000  0.000 -0.081  0.000  0.000  0.000  0.000 -0.000  1.000\n",
      " ERR MATRIX NOT POS-DEF\n",
      " **********\n",
      " **   25 **SET ERR         0.5\n",
      " **********\n",
      " **********\n",
      " **   26 **SET PRINT           1\n",
      " **********\n",
      " **********\n",
      " **   27 **HESSE        4500\n",
      " **********\n",
      " EIGENVALUES OF SECOND-DERIVATIVE MATRIX:\n",
      "        -5.9356e-02  2.5342e-02  1.5555e-01  2.3049e-01  8.3038e-01  1.0723e+00  1.4251e+00  2.2967e+00  3.0235e+00\n",
      " MINUIT WARNING IN HESSE   \n",
      " ============== MATRIX FORCED POS-DEF BY ADDING 0.062380 TO DIAGONAL.\n",
      " FCN=-3.83564e+07 FROM HESSE     STATUS=NOT POSDEF     91 CALLS        4597 TOTAL\n",
      "                     EDM=0.383012    STRATEGY= 1      ERR MATRIX NOT POS-DEF\n",
      "  EXT PARAMETER                APPROXIMATE     INTERNAL      INTERNAL  \n",
      "  NO.   NAME      VALUE            ERROR       STEP SIZE       VALUE   \n",
      "   1  alphaCB      8.91901e-01   5.18318e-03   3.57608e-03  -7.43373e-01\n",
      "   2  lambd       -1.39162e-02   1.42331e-04   1.90941e-03   1.67636e+00\n",
      "   3  mBW          8.99625e+01   2.79159e-02   3.34731e-04  -1.24991e-03\n",
      "   4  mCB          9.58467e-01   3.14359e-02   5.01689e-02  -4.30192e+00\n",
      "   5  nCB          4.99939e+00   2.77241e-03   1.91427e-01   1.59291e+00\n",
      "   6  nbkg         7.05938e+05   2.05696e+03   5.66054e-03  -2.98474e-01\n",
      "   7  nsig         2.83297e+06   2.46013e+03   2.02793e-03  -2.96065e-01\n",
      "   8  sBW          3.15200e+00   1.05015e-02   4.86283e-03  -3.78579e-01\n",
      "   9  sCB          1.51689e+00   7.29982e-03   4.71297e-03  -4.04158e-01\n",
      "                               ERR DEF= 0.5\n",
      " EXTERNAL ERROR MATRIX.    NDIM=  25    NPAR=  9    ERR DEF=0.5\n",
      "  2.687e-05  2.397e-07  9.910e-05  1.247e-04  1.529e-06  4.479e+00 -4.365e+00 -8.428e-06  2.944e-05 \n",
      "  2.397e-07  2.026e-08  5.996e-07  7.653e-07 -1.743e-08  1.422e-01 -1.384e-01 -1.204e-08  1.044e-07 \n",
      "  9.910e-05  5.996e-07  7.793e-04  8.729e-04  1.696e-06  1.358e+01 -1.323e+01 -2.359e-05  1.130e-04 \n",
      "  1.247e-04  7.653e-07  8.729e-04  9.965e-04  2.165e-06  1.732e+01 -1.688e+01 -3.051e-05  1.420e-04 \n",
      "  1.529e-06 -1.743e-08  1.696e-06  2.165e-06  6.783e-06 -5.194e-01  5.064e-01  1.331e-06 -1.727e-07 \n",
      "  4.479e+00  1.422e-01  1.358e+01  1.732e+01 -5.194e-01  4.231e+06 -3.452e+06 -9.756e+00  5.465e+00 \n",
      " -4.365e+00 -1.384e-01 -1.323e+01 -1.688e+01  5.064e-01 -3.452e+06  6.052e+06  9.511e+00 -5.328e+00 \n",
      " -8.428e-06 -1.204e-08 -2.359e-05 -3.051e-05  1.331e-06 -9.756e+00  9.511e+00  1.103e-04 -4.570e-05 \n",
      "  2.944e-05  1.044e-07  1.130e-04  1.420e-04 -1.727e-07  5.465e+00 -5.328e+00 -4.570e-05  5.329e-05 \n",
      "ERR MATRIX NOT POS-DEF\n",
      " PARAMETER  CORRELATION COEFFICIENTS  \n",
      "       NO.  GLOBAL      1      2      3      4      5      6      7      8      9\n",
      "        1  0.95932   1.000  0.325  0.685  0.762  0.113  0.420 -0.342 -0.155  0.778\n",
      "        2  0.59769   0.325  1.000  0.151  0.170 -0.047  0.486 -0.395 -0.008  0.100\n",
      "        3  0.99666   0.685  0.151  1.000  0.991  0.023  0.236 -0.193 -0.080  0.555\n",
      "        4  0.99740   0.762  0.170  0.991  1.000  0.026  0.267 -0.217 -0.092  0.616\n",
      "        5  0.37568   0.113 -0.047  0.023  0.026  1.000 -0.097  0.079  0.049 -0.009\n",
      "        6  0.80247   0.420  0.486  0.236  0.267 -0.097  1.000 -0.682 -0.452  0.364\n",
      "        7  0.69864  -0.342 -0.395 -0.193 -0.217  0.079 -0.682  1.000  0.368 -0.297\n",
      "        8  0.87281  -0.155 -0.008 -0.080 -0.092  0.049 -0.452  0.368  1.000 -0.596\n",
      "        9  0.94163   0.778  0.100  0.555  0.616 -0.009  0.364 -0.297 -0.596  1.000\n",
      " ERR MATRIX NOT POS-DEF\n",
      "[#1] INFO:Minization -- RooMinimizer::optimizeConst: deactivating const optimization\n"
     ]
    }
   ],
   "source": [
    "model.fitTo(dh,r.RooFit.Extended(),r.RooFit.Range(75,120))"
   ]
  },
  {
   "cell_type": "code",
   "execution_count": 37,
   "metadata": {},
   "outputs": [
    {
     "name": "stdout",
     "output_type": "stream",
     "text": [
      "[#1] INFO:Plotting -- RooAbsPdf::plotOn(model) p.d.f was fitted in range and no explicit plot,norm range was specified, using fit range as default\n",
      "[#1] INFO:Plotting -- RooAbsPdf::plotOn(model) only plotting range 'fit_nll_model_dh'\n",
      "[#1] INFO:Plotting -- RooAbsPdf::plotOn(model) p.d.f. curve is normalized using explicit choice of ranges 'fit_nll_model_dh'\n",
      "[#1] INFO:Caching -- RooAbsCachedPdf::getCache(BWxcball) creating new cache 0x618d170 with pdf BW_CONV_cball_CACHE_Obs[m] for nset (m) with code 0\n",
      "[#1] INFO:Plotting -- RooAbsPdf::plotOn(model) p.d.f was fitted in range and no explicit plot,norm range was specified, using fit range as default\n",
      "[#1] INFO:Plotting -- RooAbsPdf::plotOn(model) only plotting range 'fit_nll_model_dh'\n",
      "[#1] INFO:Plotting -- RooAbsPdf::plotOn(model) p.d.f. curve is normalized using explicit choice of ranges 'fit_nll_model_dh'\n",
      "[#1] INFO:Plotting -- RooAbsPdf::plotOn(model) directly selected PDF components: (expo)\n",
      "[#1] INFO:Plotting -- RooAbsPdf::plotOn(model) indirectly selected PDF components: ()\n",
      "[#1] INFO:Caching -- RooAbsCachedPdf::getCache(BWxcball) creating new cache 0x7a166b0 with pdf BW_CONV_cball_CACHE_Obs[m] for nset (m) with code 0 from preexisting content.\n",
      "[#1] INFO:Plotting -- RooAbsPdf::plotOn(model) p.d.f was fitted in range and no explicit plot,norm range was specified, using fit range as default\n",
      "[#1] INFO:Plotting -- RooAbsPdf::plotOn(model) only plotting range 'fit_nll_model_dh'\n",
      "[#1] INFO:Plotting -- RooAbsPdf::plotOn(model) p.d.f. curve is normalized using explicit choice of ranges 'fit_nll_model_dh'\n",
      "[#1] INFO:Plotting -- RooAbsPdf::plotOn(model) directly selected PDF components: (BWxcball)\n",
      "[#1] INFO:Plotting -- RooAbsPdf::plotOn(model) indirectly selected PDF components: (BW,cball)\n",
      "[#1] INFO:Caching -- RooAbsCachedPdf::getCache(BWxcball) creating new cache 0x71982a0 with pdf BW_CONV_cball_CACHE_Obs[m] for nset (m) with code 0 from preexisting content.\n"
     ]
    },
    {
     "name": "stderr",
     "output_type": "stream",
     "text": [
      "Warning in <TCanvas::Constructor>: Deleting canvas with same name: c\n"
     ]
    },
    {
     "data": {
      "image/png": "[encoded data removed]",
      "text/plain": [
       "<IPython.core.display.Image object>"
      ]
     },
     "metadata": {},
     "output_type": "display_data"
    }
   ],
   "source": [
    "ras_bkgshape = r.RooArgSet(bkgshape)\n",
    "ras_bwcball = r.RooArgSet(bwcball)\n",
    "model.plotOn(frame,r.RooFit.Name(\"model\"));                                                                            \n",
    "model.plotOn(frame,r.RooFit.Components(ras_bkgshape),r.RooFit.LineStyle(r.kDashed)) ;                                                    \n",
    "model.plotOn(frame,r.RooFit.Components(ras_bwcball),r.RooFit.LineColor(r.kGreen),r.RooFit.LineStyle(r.kDashed)) ;                                \n",
    "model.paramOn(frame,r.RooFit.Layout(0.62,0.90),r.RooFit.Format(\"NEU\",r.RooFit.AutoPrecision(1))) ;                                       \n",
    "frame.getAttText().SetTextSize(0.026) ;                                                                     \n",
    "                                                                                                                \n",
    "c = r.TCanvas(\"c\",\"Inv. Mass Hist.\",800,800) ;                                                     \n",
    "c.cd();                                                                                                      \n",
    "r.gPad.SetLeftMargin(0.19) ; frame.GetYaxis().SetTitleOffset(1.8) ;                                          \n",
    "r.gPad.SetRightMargin(0.10) ; frame.GetXaxis().SetTitleOffset(1.2) ;                                         \n",
    "                                                                                                                \n",
    "frame.Draw();                                                                                                \n",
    "c.Draw()                                                                                                                                                                                    "
   ]
  },
  {
   "cell_type": "code",
   "execution_count": 41,
   "metadata": {},
   "outputs": [
    {
     "name": "stdout",
     "output_type": "stream",
     "text": [
      "('The chi2/ndof = ', 16.211195624204912)\n",
      "[#1] INFO:Plotting -- RooAbsPdf::plotOn(model) p.d.f was fitted in range and no explicit plot,norm range was specified, using fit range as default\n",
      "[#1] INFO:Plotting -- RooAbsPdf::plotOn(model) only plotting range 'fit_nll_model_dh'\n",
      "[#1] INFO:Plotting -- RooAbsPdf::plotOn(model) p.d.f. curve is normalized using explicit choice of ranges 'fit_nll_model_dh'\n",
      "[#1] INFO:Caching -- RooAbsCachedPdf::getCache(BWxcball) creating new cache 0x77f33f0 with pdf BW_CONV_cball_CACHE_Obs[m] for nset (m) with code 0 from preexisting content.\n"
     ]
    }
   ],
   "source": []
  },
  {
   "cell_type": "code",
   "execution_count": null,
   "metadata": {},
   "outputs": [],
   "source": []
  }
 ],
 "metadata": {
  "kernelspec": {
   "display_name": "ROOFIT_IndiaCMS2020",
   "language": "python",
   "name": "roofit_indiacms2020"
  },
  "language_info": {
   "codemirror_mode": {
    "name": "ipython",
    "version": 2
   },
   "file_extension": ".py",
   "mimetype": "text/x-python",
   "name": "python",
   "nbconvert_exporter": "python",
   "pygments_lexer": "ipython2",
   "version": "2.7.15+"
  }
 },
 "nbformat": 4,
 "nbformat_minor": 2
}
